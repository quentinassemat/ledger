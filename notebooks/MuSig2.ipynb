{
 "cells": [
  {
   "cell_type": "markdown",
   "id": "b44a5ef5",
   "metadata": {},
   "source": [
    "# MuSig2 \n",
    "\n",
    "Implémentation en python du schéma de signature MuSig2, basé sur la signature Schnorr. "
   ]
  },
  {
   "cell_type": "markdown",
   "id": "20cf3879",
   "metadata": {},
   "source": [
    "trucs à faire :\n",
    "- adaptation à courbe elliptique\n"
   ]
  },
  {
   "cell_type": "code",
   "execution_count": 56,
   "id": "3199700e",
   "metadata": {},
   "outputs": [],
   "source": [
    "#Importation des librairies nécéssaires \n",
    "\n",
    "from sympy import isprime\n",
    "\n",
    "#On prend secrets car le générateur random n'est pas fiable pour la cryptographie\n",
    "import secrets as sct \n",
    "\n",
    "#pour les fonctions de hash\n",
    "import hashlib as hl\n",
    "\n",
    "#pour gérer facilement les courbes elliptiques\n",
    "import arithm"
   ]
  },
  {
   "cell_type": "code",
   "execution_count": 10,
   "id": "9fe34298",
   "metadata": {},
   "outputs": [],
   "source": [
    "#Class Group qui contient un générateur (self.g), son ordre (self.p)...    \n",
    "class SchnorrGroup:\n",
    "    def __init__(self,p,q,r,h):\n",
    "        assert(isprime(p))\n",
    "        self.p = p\n",
    "        assert(isprime(q))\n",
    "        self.order = q\n",
    "        assert(p == q*r +1)\n",
    "        g = pow(h,r,p)\n",
    "        assert(pow(h,r,p) != 1)\n",
    "        self.g = g\n",
    "        \n",
    "    def elem(self,i):\n",
    "        return pow(self.g,i,self.p)\n",
    "    \n",
    "    def gprint(self):\n",
    "        print(f\"ordre : {self.order}\")\n",
    "        print(f\"On travaille dans Z/{self.p}Z\")\n",
    "        for i in range(self.order):\n",
    "            print(f\"element {i} : {self.elem(i)}\")\n",
    "            \n",
    "#Ici le groupe de Schnorr est un sous groupe des inversibles de Zp. L'ordre est noté p pour la suite par cohérence\n",
    "#avec les papiers (notamment dans la classe Signer)\n",
    "            \n",
    "            \n",
    "#Class signer à sa clé publique (self.KEY), sa clé privé (self.key), une fonction de génération aléatoire\n",
    "class Signer:\n",
    "    #constructeurs\n",
    "    def __init__(self,G, nb_nonces):\n",
    "        self.key = sct.randbelow(G.order - 1) +1\n",
    "        self.KEY = G.elem(self.key)\n",
    "        self.p = G.order\n",
    "        self.list_r = [0]*nb_nonces\n",
    "    \n",
    "    def r(self):\n",
    "        return sct.randbelow(self.p - 1)\n",
    "    \n",
    "    def gen_r(self):\n",
    "        for i in range(len(self.list_r)):\n",
    "            self.list_r[i] = sct.randbelow(G.order)\n",
    "                "
   ]
  },
  {
   "cell_type": "code",
   "execution_count": 11,
   "id": "e905f1d6",
   "metadata": {},
   "outputs": [],
   "source": [
    "#Déroulement de l'algo \n",
    "\n",
    "#FONCTION DE HASH À REVOIR (j'ai fait la somme pour les listes et non pas une séquence prédéfinie)\n",
    "\n",
    "class SignScheme:\n",
    "    def __init__(self, G,nb_participant, nb_nonces):\n",
    "        self.G = G\n",
    "        self.nb_participant = nb_participant\n",
    "        self.nb_nonces = nb_nonces\n",
    "        self.Signers = [Signer(G,nb_nonces) for i in range (nb_participant)] #(Alice, Bob)\n",
    "    \n",
    "    def Sign(self):\n",
    "        G = self.G\n",
    "        nb_participant = self.nb_participant\n",
    "        nb_nonces = self.nb_nonces\n",
    "        #Les Signeurs ont chacun une clé privée, une clé publique à ce moment\n",
    "        L = [self.Signers[i].KEY for i in range(nb_participant)]\n",
    "        R = [[0]*nb_nonces for i in range(nb_participant)] #R[i][j] is Rij\n",
    "\n",
    "        #First Signing step (Sign and communication round)\n",
    "        for i in range(nb_participant):\n",
    "            self.Signers[i].gen_r()\n",
    "            for j in range(nb_nonces):\n",
    "                R[i][j] = G.elem(self.Signers[i].list_r[j]) #partage des R\n",
    "    \n",
    "        #Second Signing step (Sign' and communication round)\n",
    "        \n",
    "        #on calcule les ai\n",
    "        a = [ (int.from_bytes(hl.sha256(b''.join([sum(L).to_bytes(sum(L).bit_length()//7,'big'),L[i].to_bytes(L[i].bit_length()//7,'big')])).digest(),'big')%G.order) for i in range(nb_participant)] \n",
    "        \n",
    "        #on calcule Xtilde\n",
    "        Xtilde = 1\n",
    "        for i in range (nb_participant):\n",
    "            Xtilde = Xtilde * pow(L[i],a[i],G.p)\n",
    "        Xtilde = Xtilde % G.p\n",
    "        self.Xtilde = Xtilde\n",
    "        \n",
    "        #on calcule les Rj pour j entre 1 et v\n",
    "        Rn = [1]*nb_nonces\n",
    "        for j in range(nb_nonces):\n",
    "            for i in range(nb_participant):\n",
    "                Rn[j] = Rn[j] * R[i][j]\n",
    "        \n",
    "        #on calcule le vecteur b\n",
    "        b = [1] * nb_nonces\n",
    "        for j in range(1,nb_nonces):\n",
    "            b[j] = int.from_bytes(hl.sha256(b''.join([bytes(j),Xtilde.to_bytes(Xtilde.bit_length()//7,'big'),sum(Rn).to_bytes(sum(Rn).bit_length()//7,'big'),bytearray(M,'utf-16')])).digest(),'big')%G.order\n",
    "        \n",
    "        #on calcule R\n",
    "        Rsign=1\n",
    "        for j in range(nb_nonces):\n",
    "            Rsign *= pow(Rn[j],b[j],G.p)\n",
    "        Rsign = Rsign % G.p\n",
    "        \n",
    "        #on calcule c\n",
    "        c = int.from_bytes(hl.sha256(b''.join([Xtilde.to_bytes(Xtilde.bit_length()//7,'big'), Rsign.to_bytes(Rsign.bit_length()//7,'big'), bytearray(M,'utf-16')])).digest(),'big')%G.order\n",
    "        self.c = c\n",
    "        \n",
    "        #on calcule s\n",
    "        s=[0]*nb_participant\n",
    "        for i in range(nb_participant):\n",
    "            temp = 0\n",
    "            for j in range(nb_nonces):\n",
    "                temp += ((self.Signers[i]).list_r[j] * b[j])%G.order\n",
    "            s[i] = (c*a[i]*(self.Signers[i]).key + temp)%G.order\n",
    "        ssign = (sum(s))%G.order\n",
    "        \n",
    "        #on renvoie la signature\n",
    "        return (Rsign,ssign)\n",
    "\n",
    "    def verif(self,R,s):\n",
    "        return ((self.G).elem(s) == (R*pow(self.Xtilde,self.c,G.p)) % self.G.p )             "
   ]
  },
  {
   "cell_type": "code",
   "execution_count": 12,
   "id": "7b6679b8",
   "metadata": {},
   "outputs": [],
   "source": [
    "#Génération des différentes paramètres pour une signature \n",
    "\n",
    "#choix de p,q pour le groupe de Schnorr (le q sera l'ordre du groupe G.order et le p du papier)\n",
    "#p, q, r, h = 23, 11, 2, 7\n",
    "p, q, r, h = 115792089237316195423570985008687907852837564279074904382605163141518161494337, 341948486974166000522343609283189,338624364920977752681389262317185522840540224,3141592653589793238462643383279502884197\n",
    "\n",
    "G = SchnorrGroup(p,q,r,h)\n",
    "\n",
    "nb_participant = 4\n",
    "nb_nonces = 3\n",
    "M = \"Alice donne 1BT à Bob\""
   ]
  },
  {
   "cell_type": "code",
   "execution_count": 68,
   "id": "52f18381",
   "metadata": {},
   "outputs": [],
   "source": [
    "#Génération de signature aléatoire\n",
    "def FakeKey(G):\n",
    "    return (G.elem(sct.randbelow(G.order)),sct.randbelow(G.order))"
   ]
  },
  {
   "cell_type": "code",
   "execution_count": 69,
   "id": "3698597e",
   "metadata": {},
   "outputs": [
    {
     "name": "stdout",
     "output_type": "stream",
     "text": [
      "La signature est : 4045434619579777764653393943035125996459481924980114376916428693727936010444,225079915508920065733203717432569\n",
      "\n",
      "La vérification donne : True\n",
      "La vérification sur une clé aléatoire donne False\n"
     ]
    }
   ],
   "source": [
    "#Déroulement de l'algo\n",
    "\n",
    "Signsch = SignScheme(G,nb_participant,nb_nonces)\n",
    "R,s= Signsch.Sign()\n",
    "print(f\"La signature est : {R},{s}\\n\")\n",
    "print(f\"La vérification donne : {Signsch.verif(R,s)}\")\n",
    "#on créé une signature aléatoire :\n",
    "(Rrand,srand) = FakeKey(G)\n",
    "print(f\"La vérification sur une clé aléatoire donne {Signsch.verif(Rrand, srand)}\")"
   ]
  },
  {
   "cell_type": "code",
   "execution_count": 20,
   "id": "47a6abb6",
   "metadata": {},
   "outputs": [
    {
     "ename": "AttributeError",
     "evalue": "module 'arithm' has no attribute 'print'",
     "output_type": "error",
     "traceback": [
      "\u001b[0;31m---------------------------------------------------------------------------\u001b[0m",
      "\u001b[0;31mAttributeError\u001b[0m                            Traceback (most recent call last)",
      "\u001b[0;32m<ipython-input-20-cb64a28df9af>\u001b[0m in \u001b[0;36m<module>\u001b[0;34m\u001b[0m\n\u001b[0;32m----> 1\u001b[0;31m \u001b[0mG\u001b[0m \u001b[0;34m=\u001b[0m \u001b[0mar\u001b[0m\u001b[0;34m.\u001b[0m\u001b[0mprint\u001b[0m\u001b[0;34m(\u001b[0m\u001b[0;36m3\u001b[0m\u001b[0;34m)\u001b[0m\u001b[0;34m\u001b[0m\u001b[0;34m\u001b[0m\u001b[0m\n\u001b[0m\u001b[1;32m      2\u001b[0m \u001b[0mR\u001b[0m \u001b[0;34m=\u001b[0m \u001b[0;36m1234567\u001b[0m \u001b[0;34m*\u001b[0m \u001b[0mG\u001b[0m\u001b[0;34m\u001b[0m\u001b[0;34m\u001b[0m\u001b[0m\n",
      "\u001b[0;31mAttributeError\u001b[0m: module 'arithm' has no attribute 'print'"
     ]
    }
   ],
   "source": [
    "G = ar.print(3)\n",
    "R = 1234567 * G"
   ]
  },
  {
   "cell_type": "code",
   "execution_count": null,
   "id": "a3ec15eb",
   "metadata": {},
   "outputs": [],
   "source": []
  },
  {
   "cell_type": "code",
   "execution_count": null,
   "id": "83dfaa92",
   "metadata": {},
   "outputs": [],
   "source": []
  }
 ],
 "metadata": {
  "kernelspec": {
   "display_name": "Python 3",
   "language": "python",
   "name": "python3"
  },
  "language_info": {
   "codemirror_mode": {
    "name": "ipython",
    "version": 3
   },
   "file_extension": ".py",
   "mimetype": "text/x-python",
   "name": "python",
   "nbconvert_exporter": "python",
   "pygments_lexer": "ipython3",
   "version": "3.8.8"
  }
 },
 "nbformat": 4,
 "nbformat_minor": 5
}
